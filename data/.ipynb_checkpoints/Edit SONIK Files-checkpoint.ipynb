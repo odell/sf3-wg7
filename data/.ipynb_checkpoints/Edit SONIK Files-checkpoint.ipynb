{
 "cells": [
  {
   "cell_type": "code",
   "execution_count": 1,
   "id": "5f67edba",
   "metadata": {},
   "outputs": [],
   "source": [
    "import os\n",
    "import numpy as np"
   ]
  },
  {
   "cell_type": "code",
   "execution_count": 2,
   "id": "fbcd61d1",
   "metadata": {},
   "outputs": [],
   "source": [
    "files = list(filter(lambda f: 'sonik_inflated' in f, os.listdir()))"
   ]
  },
  {
   "cell_type": "code",
   "execution_count": 3,
   "id": "926545fa",
   "metadata": {},
   "outputs": [
    {
     "data": {
      "text/plain": [
       "['sonik_inflated_1820.dat',\n",
       " 'sonik_inflated_711.dat',\n",
       " 'sonik_inflated_239.dat',\n",
       " 'sonik_inflated_1441.dat',\n",
       " 'sonik_inflated_432.dat',\n",
       " 'sonik_inflated_586.dat',\n",
       " 'sonik_inflated_291.dat',\n",
       " 'sonik_inflated_873_1.dat',\n",
       " 'sonik_inflated_1196.dat',\n",
       " 'sonik_inflated_873_2.dat']"
      ]
     },
     "execution_count": 3,
     "metadata": {},
     "output_type": "execute_result"
    }
   ],
   "source": [
    "files"
   ]
  },
  {
   "cell_type": "code",
   "execution_count": 7,
   "id": "128458c4",
   "metadata": {},
   "outputs": [],
   "source": [
    "citation = '''\n",
    "# @article{Paneru:2022tel,\n",
    "#     author = \"Paneru, S. N. and others\",\n",
    "#     title = \"{Elastic scattering of 3He+4He with SONIK}\",\n",
    "#     eprint = \"2211.14641\",\n",
    "#     archivePrefix = \"arXiv\",\n",
    "#     primaryClass = \"nucl-ex\",\n",
    "#     month = \"11\",\n",
    "#     year = \"2022\"\n",
    "# }\n",
    "'''\n",
    "\n",
    "description = '''\n",
    "# Column 1: Forward kinematic laboratory frame energy (MeV)\n",
    "# Column 2: Forward kinematic laboratory frame angle (degrees)\n",
    "# Column 3: Forward kinematic laboratory frame cross section (barns/sr)\n",
    "# Column 4: Forward kinematic laboratory frame cross section uncertainty (barns/sr)\n",
    "'''"
   ]
  },
  {
   "cell_type": "code",
   "execution_count": 9,
   "id": "f611ee4c",
   "metadata": {},
   "outputs": [],
   "source": [
    "def read_filename(f):\n",
    "    i = f.find('.dat')\n",
    "    return f[:i]"
   ]
  },
  {
   "cell_type": "code",
   "execution_count": 11,
   "id": "68628d9d",
   "metadata": {},
   "outputs": [
    {
     "name": "stdout",
     "output_type": "stream",
     "text": [
      "sonik_inflated_1820\n",
      "sonik_inflated_711\n",
      "sonik_inflated_239\n",
      "sonik_inflated_1441\n",
      "sonik_inflated_432\n",
      "sonik_inflated_586\n",
      "sonik_inflated_291\n",
      "sonik_inflated_873_1\n",
      "sonik_inflated_1196\n",
      "sonik_inflated_873_2\n"
     ]
    }
   ],
   "source": [
    "for file in files:\n",
    "    fname = read_filename(file)\n",
    "    print(fname)\n",
    "    with open(file, 'r+') as f:\n",
    "        contents = f.read()\n",
    "        contents = citation + description + contents\n",
    "        \n",
    "        with open(fname + '-odell.txt', 'w+') as fp:\n",
    "            fp.write(contents)"
   ]
  },
  {
   "cell_type": "code",
   "execution_count": null,
   "id": "e85a0de9",
   "metadata": {},
   "outputs": [],
   "source": []
  }
 ],
 "metadata": {
  "kernelspec": {
   "display_name": "Python 3 (ipykernel)",
   "language": "python",
   "name": "python3"
  },
  "language_info": {
   "codemirror_mode": {
    "name": "ipython",
    "version": 3
   },
   "file_extension": ".py",
   "mimetype": "text/x-python",
   "name": "python",
   "nbconvert_exporter": "python",
   "pygments_lexer": "ipython3",
   "version": "3.10.1"
  }
 },
 "nbformat": 4,
 "nbformat_minor": 5
}
